{
  "nbformat": 4,
  "nbformat_minor": 0,
  "metadata": {
    "colab": {
      "provenance": [],
      "authorship_tag": "ABX9TyOnJpfSzdT4PeT+wnX6WtmC",
      "include_colab_link": true
    },
    "kernelspec": {
      "name": "python3",
      "display_name": "Python 3"
    },
    "language_info": {
      "name": "python"
    }
  },
  "cells": [
    {
      "cell_type": "markdown",
      "metadata": {
        "id": "view-in-github",
        "colab_type": "text"
      },
      "source": [
        "<a href=\"https://colab.research.google.com/github/jackyjack00/Machine_Learning_Deep_Learning_LAB/blob/main/Es3_1_KNN.ipynb\" target=\"_parent\"><img src=\"https://colab.research.google.com/assets/colab-badge.svg\" alt=\"Open In Colab\"/></a>"
      ]
    },
    {
      "cell_type": "code",
      "execution_count": null,
      "metadata": {
        "id": "4gS_gGVg5zX7"
      },
      "outputs": [],
      "source": [
        "from sklearn.datasets import load_digits\n",
        "\n",
        "X , y = load_digits(return_X_y = True)"
      ]
    },
    {
      "cell_type": "code",
      "source": [
        "from sklearn.neighbors import KNeighborsClassifier\n",
        "from sklearn.model_selection import train_test_split\n",
        "\n",
        "X_train , X_test , y_train , y_test = train_test_split( X , y , test_size= .3 )\n",
        "\n",
        "print( X_train.shape )"
      ],
      "metadata": {
        "colab": {
          "base_uri": "https://localhost:8080/"
        },
        "id": "CodVVj8y65-i",
        "outputId": "bb43a9ff-1d83-416f-c719-94621f8a6b36"
      },
      "execution_count": null,
      "outputs": [
        {
          "output_type": "stream",
          "name": "stdout",
          "text": [
            "(1257, 64)\n"
          ]
        }
      ]
    },
    {
      "cell_type": "markdown",
      "source": [
        "Try the KNN without any preprocessing"
      ],
      "metadata": {
        "id": "hFd5T1lC7gjc"
      }
    },
    {
      "cell_type": "code",
      "source": [
        "from sklearn.metrics import accuracy_score\n",
        "\n",
        "clf = KNeighborsClassifier( 5 )\n",
        "clf.fit( X_train , y_train )\n",
        "y_pred = clf.predict( X_test )\n",
        "\n",
        "print( accuracy_score(y_test , y_pred) )"
      ],
      "metadata": {
        "colab": {
          "base_uri": "https://localhost:8080/"
        },
        "id": "RpOAqYp57jq9",
        "outputId": "28dafa9e-d36a-49ff-bee3-f01b6da991fc"
      },
      "execution_count": null,
      "outputs": [
        {
          "output_type": "stream",
          "name": "stdout",
          "text": [
            "0.9777777777777777\n"
          ]
        }
      ]
    },
    {
      "cell_type": "markdown",
      "source": [
        "Try KNN with preprocess and PCA"
      ],
      "metadata": {
        "id": "b09TzR5V8O4r"
      }
    },
    {
      "cell_type": "code",
      "source": [
        "from sklearn.decomposition import PCA\n",
        "from sklearn.preprocessing import StandardScaler\n",
        "\n",
        "scaler = StandardScaler()\n",
        "pca = PCA(.95)\n",
        "X_preprocessed = pca.fit_transform( scaler.fit_transform(X) )\n",
        "\n",
        "print( X_preprocessed.shape)"
      ],
      "metadata": {
        "colab": {
          "base_uri": "https://localhost:8080/"
        },
        "id": "i8BDMhvw8OPV",
        "outputId": "aa5c6b2f-c250-46ed-b8cf-03ad40daa166"
      },
      "execution_count": null,
      "outputs": [
        {
          "output_type": "stream",
          "name": "stdout",
          "text": [
            "(1797, 40)\n"
          ]
        }
      ]
    },
    {
      "cell_type": "code",
      "source": [
        "X_train , X_test , y_train , y_test = train_test_split( X_preprocessed , y , test_size= .3 )\n",
        "\n",
        "clf = KNeighborsClassifier( 5 )\n",
        "clf.fit( X_train , y_train )\n",
        "y_pred = clf.predict( X_test )\n",
        "\n",
        "print( accuracy_score(y_test , y_pred) )"
      ],
      "metadata": {
        "colab": {
          "base_uri": "https://localhost:8080/"
        },
        "id": "ZspAjnc19AjD",
        "outputId": "ab8f9dcb-3f6d-4db5-e1a4-c438cfccffc6"
      },
      "execution_count": null,
      "outputs": [
        {
          "output_type": "stream",
          "name": "stdout",
          "text": [
            "0.9611111111111111\n"
          ]
        }
      ]
    },
    {
      "cell_type": "code",
      "source": [
        "from prettytable import PrettyTable\n",
        "\n",
        "tbl = PrettyTable( [\"k\" , \"acc\"] )\n",
        "\n",
        "for k in range(1 , 10):\n",
        "  clf = KNeighborsClassifier( k )\n",
        "  clf.fit( X_train , y_train )\n",
        "  y_pred = clf.predict( X_test )\n",
        "  tbl.add_row( [k , accuracy_score( y_test , y_pred)] )\n",
        "\n",
        "print( tbl )"
      ],
      "metadata": {
        "colab": {
          "base_uri": "https://localhost:8080/"
        },
        "id": "BxMz1dRb_uRG",
        "outputId": "72a216b4-d00e-474c-d4e1-4fddac1178b2"
      },
      "execution_count": null,
      "outputs": [
        {
          "output_type": "stream",
          "name": "stdout",
          "text": [
            "+---+--------------------+\n",
            "| k |        acc         |\n",
            "+---+--------------------+\n",
            "| 1 | 0.9611111111111111 |\n",
            "| 2 | 0.9629629629629629 |\n",
            "| 3 | 0.9703703703703703 |\n",
            "| 4 | 0.9666666666666667 |\n",
            "| 5 | 0.9611111111111111 |\n",
            "| 6 | 0.9685185185185186 |\n",
            "| 7 | 0.9703703703703703 |\n",
            "| 8 | 0.9666666666666667 |\n",
            "| 9 | 0.9666666666666667 |\n",
            "+---+--------------------+\n"
          ]
        }
      ]
    },
    {
      "cell_type": "code",
      "source": [
        "from sklearn.model_selection import GridSearchCV\n",
        "\n",
        "params = {\n",
        "    \"n_neighbors\" : range(1 , 10) ,\n",
        "    \"weights\" : ['uniform', 'distance'] , \n",
        "    \"p\" : [ 1 , 2 ]\n",
        "}\n",
        "\n",
        "grid_search = GridSearchCV( KNeighborsClassifier() , params , cv = 5)"
      ],
      "metadata": {
        "id": "aFRDTCATA-3P"
      },
      "execution_count": null,
      "outputs": []
    },
    {
      "cell_type": "code",
      "source": [
        "grid_search.fit(X_train , y_train)\n",
        "grid_search.best_params_"
      ],
      "metadata": {
        "colab": {
          "base_uri": "https://localhost:8080/"
        },
        "id": "BL2ZKvsSB0sO",
        "outputId": "f322955f-14ff-47f7-b3e3-c5e0ded3f150"
      },
      "execution_count": null,
      "outputs": [
        {
          "output_type": "execute_result",
          "data": {
            "text/plain": [
              "{'n_neighbors': 4, 'p': 2, 'weights': 'distance'}"
            ]
          },
          "metadata": {},
          "execution_count": 56
        }
      ]
    },
    {
      "cell_type": "code",
      "source": [
        "clf = grid_search.best_estimator_\n",
        "clf.fit( X_train , y_train )\n",
        "y_pred = clf.predict( X_test )\n",
        "print( f\"With params {grid_search.best_params_}\")\n",
        "print( f\"ACCURACY : {accuracy_score( y_test , y_pred)}\")"
      ],
      "metadata": {
        "colab": {
          "base_uri": "https://localhost:8080/"
        },
        "id": "PYxhs5kACdl_",
        "outputId": "49954a24-f0d2-405d-dd6d-ff7270c97a52"
      },
      "execution_count": null,
      "outputs": [
        {
          "output_type": "stream",
          "name": "stdout",
          "text": [
            "With params {'n_neighbors': 4, 'p': 2, 'weights': 'distance'}\n",
            "ACCURACY : 0.9703703703703703\n"
          ]
        }
      ]
    },
    {
      "cell_type": "code",
      "source": [
        "from sklearn.pipeline import Pipeline\n",
        "import numpy as np\n",
        "\n",
        "pipe = Pipeline( [('scaler', StandardScaler()), ('pca', PCA()) , (\"knn\" , KNeighborsClassifier() )] )\n",
        "\n",
        "params = {\n",
        "    \"pca__n_components\" : np.linspace(.85 , .99 , 10),\n",
        "    \"knn__n_neighbors\" : range(1 , 10) ,\n",
        "    \"knn__weights\" : ['uniform', 'distance'] , \n",
        "    \"knn__p\" : [ 1 , 2 ]\n",
        "}\n",
        "\n",
        "grid_search = GridSearchCV( pipe , params , cv = 5)"
      ],
      "metadata": {
        "id": "EE8EHbrcEFDu"
      },
      "execution_count": null,
      "outputs": []
    },
    {
      "cell_type": "code",
      "source": [
        "grid_search.fit(X_train , y_train)\n",
        "grid_search.best_params_"
      ],
      "metadata": {
        "colab": {
          "base_uri": "https://localhost:8080/"
        },
        "id": "7Uu8s8TgFZ-t",
        "outputId": "07fed5fd-118d-4b4e-e004-6dc795fd4c26"
      },
      "execution_count": null,
      "outputs": [
        {
          "output_type": "execute_result",
          "data": {
            "text/plain": [
              "{'knn__n_neighbors': 4,\n",
              " 'knn__p': 2,\n",
              " 'knn__weights': 'distance',\n",
              " 'pca__n_components': 0.9277777777777778}"
            ]
          },
          "metadata": {},
          "execution_count": 60
        }
      ]
    },
    {
      "cell_type": "code",
      "source": [
        "clf = grid_search.best_estimator_\n",
        "clf.fit( X_train , y_train )\n",
        "y_pred = clf.predict( X_test )\n",
        "print( f\"With params {grid_search.best_params_}\")\n",
        "print( f\"ACCURACY : {accuracy_score( y_test , y_pred)}\")"
      ],
      "metadata": {
        "colab": {
          "base_uri": "https://localhost:8080/"
        },
        "id": "RXHLwYlhFcfu",
        "outputId": "37bf9ffb-dacd-4f2d-bc20-7de817114dfd"
      },
      "execution_count": null,
      "outputs": [
        {
          "output_type": "stream",
          "name": "stdout",
          "text": [
            "With params {'knn__n_neighbors': 4, 'knn__p': 2, 'knn__weights': 'distance', 'pca__n_components': 0.9277777777777778}\n",
            "ACCURACY : 0.9518518518518518\n"
          ]
        }
      ]
    }
  ]
}