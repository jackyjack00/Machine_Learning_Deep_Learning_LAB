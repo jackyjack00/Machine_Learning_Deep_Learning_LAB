{
  "nbformat": 4,
  "nbformat_minor": 0,
  "metadata": {
    "colab": {
      "provenance": [],
      "authorship_tag": "ABX9TyOLgZcHCHrYiUejMcQdFscM",
      "include_colab_link": true
    },
    "kernelspec": {
      "name": "python3",
      "display_name": "Python 3"
    },
    "language_info": {
      "name": "python"
    }
  },
  "cells": [
    {
      "cell_type": "markdown",
      "metadata": {
        "id": "view-in-github",
        "colab_type": "text"
      },
      "source": [
        "<a href=\"https://colab.research.google.com/github/jackyjack00/Machine_Learning_Deep_Learning_LAB/blob/main/Es1_2_MNISTfashion_ManuallyPCA.ipynb\" target=\"_parent\"><img src=\"https://colab.research.google.com/assets/colab-badge.svg\" alt=\"Open In Colab\"/></a>"
      ]
    },
    {
      "cell_type": "markdown",
      "source": [
        "A loader for the fashin MNIST"
      ],
      "metadata": {
        "id": "_GJsE7kQUsbF"
      }
    },
    {
      "cell_type": "code",
      "source": [
        "def load_mnist(path, kind='train'):\n",
        "    import os\n",
        "    import gzip\n",
        "    import numpy as np\n",
        "\n",
        "    \"\"\"Load MNIST data from `path`\"\"\"\n",
        "    labels_path = os.path.join(path,\n",
        "                               '%s-labels-idx1-ubyte.gz'\n",
        "                               % kind)\n",
        "    images_path = os.path.join(path,\n",
        "                               '%s-images-idx3-ubyte.gz'\n",
        "                               % kind)\n",
        "\n",
        "    with gzip.open(labels_path, 'rb') as lbpath:\n",
        "        labels = np.frombuffer(lbpath.read(), dtype=np.uint8,\n",
        "                               offset=8)\n",
        "\n",
        "    with gzip.open(images_path, 'rb') as imgpath:\n",
        "        images = np.frombuffer(imgpath.read(), dtype=np.uint8,\n",
        "                               offset=16).reshape(len(labels), 784)\n",
        "\n",
        "    return images, labels"
      ],
      "metadata": {
        "id": "9gGdvzAcQZ67"
      },
      "execution_count": null,
      "outputs": []
    },
    {
      "cell_type": "code",
      "source": [
        "X_train, y_train = load_mnist('/content/data', kind='train')\n",
        "#X_test, y_test = load_mnist('/content/data', kind='t10k')"
      ],
      "metadata": {
        "id": "bWyJJLQmU6bJ"
      },
      "execution_count": null,
      "outputs": []
    },
    {
      "cell_type": "markdown",
      "source": [
        "Each image is a 28x28 grayscale image"
      ],
      "metadata": {
        "id": "yOka5hsvX8_0"
      }
    },
    {
      "cell_type": "code",
      "source": [
        "import numpy as np\n",
        "import matplotlib.pyplot as plt\n",
        "print(f\"The shape of a train sample is {X_train[0].shape} thus the size is 28*28\")\n",
        "image = X_train[0].reshape(28,28)\n",
        "plt.imshow(image)"
      ],
      "metadata": {
        "colab": {
          "base_uri": "https://localhost:8080/",
          "height": 300
        },
        "id": "P_uI-S-yXjNB",
        "outputId": "e9b79847-1427-4d80-a591-1dd0fd357a7f"
      },
      "execution_count": null,
      "outputs": [
        {
          "output_type": "stream",
          "name": "stdout",
          "text": [
            "The shape of a train sample is (784,) thus the size is 28*28\n"
          ]
        },
        {
          "output_type": "execute_result",
          "data": {
            "text/plain": [
              "<matplotlib.image.AxesImage at 0x7f57227271c0>"
            ]
          },
          "metadata": {},
          "execution_count": 135
        },
        {
          "output_type": "display_data",
          "data": {
            "text/plain": [
              "<Figure size 432x288 with 1 Axes>"
            ],
            "image/png": "[encoded data removed]"
          },
          "metadata": {
            "needs_background": "light"
          }
        }
      ]
    },
    {
      "cell_type": "code",
      "source": [
        "X_train.shape"
      ],
      "metadata": {
        "colab": {
          "base_uri": "https://localhost:8080/"
        },
        "id": "xJsCmU7cjuFu",
        "outputId": "b23cf88e-f4ba-4a6b-df70-0476622d3f60"
      },
      "execution_count": null,
      "outputs": [
        {
          "output_type": "execute_result",
          "data": {
            "text/plain": [
              "(60000, 784)"
            ]
          },
          "metadata": {},
          "execution_count": 44
        }
      ]
    },
    {
      "cell_type": "markdown",
      "source": [
        "Building Scaler and PCA"
      ],
      "metadata": {
        "id": "1hq0en4Ay_RJ"
      }
    },
    {
      "cell_type": "code",
      "source": [
        "from sklearn.decomposition import PCA\n",
        "from sklearn.preprocessing import StandardScaler\n",
        "pca = PCA(.99)\n",
        "scaler = StandardScaler()\n",
        "#Normalize data\n",
        "X_train = scaler.fit_transform(X_train)\n",
        "#apply PCA\n",
        "X_train_pca = pca.fit_transform(X_train)"
      ],
      "metadata": {
        "id": "MmtSPr1vYFhl"
      },
      "execution_count": null,
      "outputs": []
    },
    {
      "cell_type": "markdown",
      "source": [
        "Visualize the image obtained keeping the components chosen by the PCA"
      ],
      "metadata": {
        "id": "mnEdr8HifCZv"
      }
    },
    {
      "cell_type": "code",
      "source": [
        "#From the image sample after pca (only 6 components) go back to a full 28*28 image (lost information in the process)\n",
        "inverse_pca_image = pca.inverse_transform(X_train_pca[0])\n",
        "\n",
        "#Apply the reverse of the normalization done to data (Expected a sample with 28*28 columns)\n",
        "inverse_normalization_image = scaler.inverse_transform( inverse_pca_image.reshape(1,-1) )\n",
        "\n",
        "#reshape image to be able to plot it\n",
        "result_image = inverse_normalization_image.reshape(28 , 28)\n",
        "plt.imshow( result_image )"
      ],
      "metadata": {
        "colab": {
          "base_uri": "https://localhost:8080/",
          "height": 282
        },
        "id": "76rMs9Jre6_I",
        "outputId": "589a8ac8-a737-41aa-e938-12b5ac910d67"
      },
      "execution_count": null,
      "outputs": [
        {
          "output_type": "execute_result",
          "data": {
            "text/plain": [
              "<matplotlib.image.AxesImage at 0x7f572298abb0>"
            ]
          },
          "metadata": {},
          "execution_count": 62
        },
        {
          "output_type": "display_data",
          "data": {
            "text/plain": [
              "<Figure size 432x288 with 1 Axes>"
            ],
            "image/png": "[encoded data removed]"
          },
          "metadata": {
            "needs_background": "light"
          }
        }
      ]
    },
    {
      "cell_type": "markdown",
      "source": [
        "Applying Manually the PCA"
      ],
      "metadata": {
        "id": "CRH8EWwrhrqm"
      }
    },
    {
      "cell_type": "markdown",
      "source": [
        "1. Compute the covariance matrix. This shows how the features (in this case each pixel) is correlated to any other. Thus the covarince matrix has a shpe of ( n_features , n_features )\n",
        "2. Compute EigenValues and EigenVectors of the covaraince matrix\n",
        "\n"
      ],
      "metadata": {
        "id": "RDOxuVghn04H"
      }
    },
    {
      "cell_type": "code",
      "source": [
        "#compute covariance of the dataset (rapresented as each record a flatten image)\n",
        "covariance_matrix = np.cov( X_train.transpose() )\n",
        "\n",
        "#compute eigenvalues and eigenvectors of that covariance matrix\n",
        "EigVal,EigVec = np.linalg.eig(covariance_matrix)"
      ],
      "metadata": {
        "id": "d4H6o-ZZhv8i"
      },
      "execution_count": null,
      "outputs": []
    },
    {
      "cell_type": "code",
      "source": [
        "print(f\"The Covariance matrix has shape {covariance_matrix.shape}\\nThe Eigen Values array has shape {EigVal.shape}\\nThe Eigen Vectors matrix has shape {EigVec.shape}\")"
      ],
      "metadata": {
        "colab": {
          "base_uri": "https://localhost:8080/"
        },
        "id": "AjBtlKKdqftX",
        "outputId": "f76c5d3f-ec23-4f0d-e8a2-63bec5f95578"
      },
      "execution_count": null,
      "outputs": [
        {
          "output_type": "stream",
          "name": "stdout",
          "text": [
            "The Covariance matrix has shape (784, 784)\n",
            "The Eigen Values array has shape (784,)\n",
            "The Eigen Vectors matrix has shape (784, 784)\n"
          ]
        }
      ]
    },
    {
      "cell_type": "markdown",
      "source": [
        "Eigenvalues are quite different. These values give us the order of significance of eigenvectors or directions. The axis along eigenvector with the largest eigenvalue is the most significant PC axis and so on."
      ],
      "metadata": {
        "id": "vN57cTnconfJ"
      }
    },
    {
      "cell_type": "code",
      "source": [
        "EigVal[:10]"
      ],
      "metadata": {
        "colab": {
          "base_uri": "https://localhost:8080/"
        },
        "id": "oqhyj-inox5d",
        "outputId": "6de2419e-ed53-45c3-d063-a104cc0ba91c"
      },
      "execution_count": null,
      "outputs": [
        {
          "output_type": "execute_result",
          "data": {
            "text/plain": [
              "array([173.13789644, 113.01260323,  42.81633652,  39.89596074,\n",
              "        31.79084015,  23.67336435,  21.54106703,  18.13934684,\n",
              "        13.27049633,  10.33363286])"
            ]
          },
          "metadata": {},
          "execution_count": 75
        }
      ]
    },
    {
      "cell_type": "code",
      "source": [
        "order = EigVal.argsort()[::-1]\n",
        "#reorder according to descendent EigenValOrder\n",
        "EigVal = EigVal[order]\n",
        "#reorder the components of each Eigenvector according to its eigenvalue\n",
        "EigVec = EigVec[:,order]"
      ],
      "metadata": {
        "id": "soKhfhLapCWR"
      },
      "execution_count": null,
      "outputs": []
    },
    {
      "cell_type": "markdown",
      "source": [
        "The Principal Components are computed by the cross prodoct between the dataset and the ordered Eigen Vectors"
      ],
      "metadata": {
        "id": "6RJOFGaUrHJV"
      }
    },
    {
      "cell_type": "code",
      "source": [
        "n_components = 6\n",
        "PC = np.matmul( X_train , EigVec[ : , :n_components] )"
      ],
      "metadata": {
        "id": "H-QRR989qLSd"
      },
      "execution_count": null,
      "outputs": []
    },
    {
      "cell_type": "markdown",
      "source": [
        "By keeping only a subset of each EigenVector components (the first n_components) we reduce the features of each data to only the top n, according to decreasing eigenvalue. Thus reducing the features to the top n that summurize better the variance"
      ],
      "metadata": {
        "id": "NEwr1VpwtL-W"
      }
    },
    {
      "cell_type": "code",
      "source": [
        "X_train.shape"
      ],
      "metadata": {
        "colab": {
          "base_uri": "https://localhost:8080/"
        },
        "id": "PUFa_hVstsho",
        "outputId": "ff7a02fe-df85-4aca-9fae-ee61bb13406e"
      },
      "execution_count": null,
      "outputs": [
        {
          "output_type": "execute_result",
          "data": {
            "text/plain": [
              "(60000, 784)"
            ]
          },
          "metadata": {},
          "execution_count": 182
        }
      ]
    },
    {
      "cell_type": "code",
      "source": [
        "PC.shape"
      ],
      "metadata": {
        "colab": {
          "base_uri": "https://localhost:8080/"
        },
        "id": "PfzVVjtFr5-W",
        "outputId": "e992d3ff-a43f-4219-83e0-accba8b5152d"
      },
      "execution_count": null,
      "outputs": [
        {
          "output_type": "execute_result",
          "data": {
            "text/plain": [
              "(60000, 6)"
            ]
          },
          "metadata": {},
          "execution_count": 183
        }
      ]
    },
    {
      "cell_type": "markdown",
      "source": [
        "To reconstruct the image from the PC is performed a cross prodoct between the PC and the Transpose matrix of the Eigen Vectors (with only the n_components wanted). Note that at this point the infromation of the components not present in the PC is already lost"
      ],
      "metadata": {
        "id": "DUjQDWeHzW8e"
      }
    },
    {
      "cell_type": "markdown",
      "source": [
        "Top 6 PC"
      ],
      "metadata": {
        "id": "YJCeLaH7t74o"
      }
    },
    {
      "cell_type": "code",
      "source": [
        "data_original = np.matmul(PC, EigVec[ : , :n_components].T)"
      ],
      "metadata": {
        "id": "0A3zmUu-wtJt"
      },
      "execution_count": null,
      "outputs": []
    },
    {
      "cell_type": "code",
      "source": [
        "result_image = data_original[0].reshape( 28 , 28 )\n",
        "plt.imshow(result_image)"
      ],
      "metadata": {
        "colab": {
          "base_uri": "https://localhost:8080/",
          "height": 282
        },
        "id": "2SHvWrIGx-Cn",
        "outputId": "4278ba7f-bcf3-4a9d-e5d7-3043dbedce93"
      },
      "execution_count": null,
      "outputs": [
        {
          "output_type": "execute_result",
          "data": {
            "text/plain": [
              "<matplotlib.image.AxesImage at 0x7f572246bca0>"
            ]
          },
          "metadata": {},
          "execution_count": 185
        },
        {
          "output_type": "display_data",
          "data": {
            "text/plain": [
              "<Figure size 432x288 with 1 Axes>"
            ],
            "image/png": "[encoded data removed]"
          },
          "metadata": {
            "needs_background": "light"
          }
        }
      ]
    },
    {
      "cell_type": "markdown",
      "source": [
        "Last 6 PC"
      ],
      "metadata": {
        "id": "t4tc4NJeyV4-"
      }
    },
    {
      "cell_type": "code",
      "source": [
        "data_original = np.matmul(PC, EigVec[ : ,-n_components:].T)"
      ],
      "metadata": {
        "id": "KUEBsy3ayYOd"
      },
      "execution_count": null,
      "outputs": []
    },
    {
      "cell_type": "code",
      "source": [
        "result_image = data_original[0].reshape( 28 , 28 )\n",
        "plt.imshow(result_image)"
      ],
      "metadata": {
        "colab": {
          "base_uri": "https://localhost:8080/",
          "height": 282
        },
        "id": "MWfNUyj4yjmm",
        "outputId": "bde299af-4099-4856-b218-fa3e9d6d2d1f"
      },
      "execution_count": null,
      "outputs": [
        {
          "output_type": "execute_result",
          "data": {
            "text/plain": [
              "<matplotlib.image.AxesImage at 0x7f57223c92b0>"
            ]
          },
          "metadata": {},
          "execution_count": 187
        },
        {
          "output_type": "display_data",
          "data": {
            "text/plain": [
              "<Figure size 432x288 with 1 Axes>"
            ],
            "image/png": "[encoded data removed]"
          },
          "metadata": {
            "needs_background": "light"
          }
        }
      ]
    }
  ]
}