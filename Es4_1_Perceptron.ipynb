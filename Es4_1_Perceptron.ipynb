{
  "nbformat": 4,
  "nbformat_minor": 0,
  "metadata": {
    "colab": {
      "provenance": [],
      "authorship_tag": "ABX9TyMP9QPFNhxq5jKB2iZYr6FO",
      "include_colab_link": true
    },
    "kernelspec": {
      "name": "python3",
      "display_name": "Python 3"
    },
    "language_info": {
      "name": "python"
    }
  },
  "cells": [
    {
      "cell_type": "markdown",
      "metadata": {
        "id": "view-in-github",
        "colab_type": "text"
      },
      "source": [
        "<a href=\"https://colab.research.google.com/github/jackyjack00/Machine_Learning_Deep_Learning_LAB/blob/main/Es4_1_Perceptron.ipynb\" target=\"_parent\"><img src=\"https://colab.research.google.com/assets/colab-badge.svg\" alt=\"Open In Colab\"/></a>"
      ]
    },
    {
      "cell_type": "markdown",
      "source": [
        "Perceptron is a binary classifier, an hyperplane that divides the input space.\n"
      ],
      "metadata": {
        "id": "WuSLrrnVhbXP"
      }
    },
    {
      "cell_type": "code",
      "execution_count": null,
      "metadata": {
        "id": "lItIF7TrhU8F"
      },
      "outputs": [],
      "source": [
        "import numpy as np\n",
        "\n",
        "class Perceptron:\n",
        "  def __init__ (self , learning_rate=0.1 , n_iter = 100):\n",
        "    #hyperparameters\n",
        "    self.learning_rate = learning_rate\n",
        "    self.n_iter = n_iter\n",
        "\n",
        "    #bias\n",
        "    self._b = 0.0\n",
        "    #weights\n",
        "    self._w = None\n",
        "\n",
        "    self._misclassified_samples = []\n",
        "\n",
        "  #linear combination and bias\n",
        "  def f(self, x:np.array) -> float:\n",
        "    return np.dot( x , self._w) + self._b\n",
        "\n",
        "  def fit( self , x:np.array , y: np.array):\n",
        "    self._b = 0.0\n",
        "    self._w = np.zeros( x.shape[1] )\n",
        "    self._misclassified_samples = []\n",
        "\n",
        "    #for the number of iterations decided\n",
        "    for _ in range(self.n_iter):\n",
        "      errors = 0\n",
        "      #for each sample\n",
        "      for xi , yi in zip(x,y):\n",
        "        #compute the update using the specified learning rate times the error\n",
        "        update = self.learning_rate * ( yi - self.predict(xi) )\n",
        "        self._b += update\n",
        "        self._w += update*xi\n",
        "        errors += int (update != 0.0)\n",
        "        \n",
        "      self._misclassified_samples.append(errors)\n",
        "\n",
        "  def predict( self , x:np.array) -> int:\n",
        "    return np.where( self.f(x) >= 0.0 , 1 , 0)"
      ]
    },
    {
      "cell_type": "code",
      "source": [
        "from sklearn.datasets import load_iris\n",
        "\n",
        "X , y = load_iris( return_X_y=True)\n"
      ],
      "metadata": {
        "id": "q_dP0oYOlHLU"
      },
      "execution_count": null,
      "outputs": []
    },
    {
      "cell_type": "markdown",
      "source": [
        "Use only the first 2 features, and use only the first two classes"
      ],
      "metadata": {
        "id": "JenWMCLwmqOJ"
      }
    },
    {
      "cell_type": "code",
      "source": [
        "reduced_x = []\n",
        "reduced_y = []\n",
        "for xi , yi in zip(X , y):\n",
        "  if yi < 2:\n",
        "    reduced_x.append(xi[:2])\n",
        "    reduced_y.append(yi)\n",
        "\n",
        "reduced_x = np.array(reduced_x)\n",
        "reduced_y = np.array(reduced_y)"
      ],
      "metadata": {
        "id": "b7IlHruTlbYI"
      },
      "execution_count": null,
      "outputs": []
    },
    {
      "cell_type": "markdown",
      "source": [
        "divide in split [5 , 2 , 3] as [train , val , test]"
      ],
      "metadata": {
        "id": "eq7vLkO6oQSF"
      }
    },
    {
      "cell_type": "code",
      "source": [
        "from sklearn.model_selection import train_test_split\n",
        "\n",
        "x_train, x_test , y_train, y_test = train_test_split( reduced_x , reduced_y , train_size = .7)\n",
        "x_train , x_val, y_train, y_val = train_test_split( x_train , y_train , train_size = .7)"
      ],
      "metadata": {
        "id": "kBydU1s-m1Do"
      },
      "execution_count": null,
      "outputs": []
    },
    {
      "cell_type": "code",
      "source": [
        "print( x_train.shape , x_val.shape , x_test.shape)"
      ],
      "metadata": {
        "colab": {
          "base_uri": "https://localhost:8080/"
        },
        "id": "_ZUDuc-NnqHQ",
        "outputId": "6d884ecf-bcf1-4b23-90f7-4385814554a8"
      },
      "execution_count": null,
      "outputs": [
        {
          "output_type": "stream",
          "name": "stdout",
          "text": [
            "(49, 2) (21, 2) (30, 2)\n"
          ]
        }
      ]
    },
    {
      "cell_type": "markdown",
      "source": [
        "Fit the Perceptron"
      ],
      "metadata": {
        "id": "4dNdq_gbo4xm"
      }
    },
    {
      "cell_type": "code",
      "source": [
        "clf = Perceptron(n_iter = 10000)\n",
        "clf.fit( x_train , y_train )\n",
        "y_pred = clf.predict( x_train )\n",
        "print( accuracy_score(y_train , y_pred) )"
      ],
      "metadata": {
        "colab": {
          "base_uri": "https://localhost:8080/"
        },
        "id": "ZjZt7CW_oYIj",
        "outputId": "b5c9ed46-aeaa-40a8-c11e-3109d32b5c10"
      },
      "execution_count": null,
      "outputs": [
        {
          "output_type": "stream",
          "name": "stdout",
          "text": [
            "1.0\n"
          ]
        }
      ]
    },
    {
      "cell_type": "code",
      "source": [
        "from sklearn.metrics import accuracy_score\n",
        "y_pred = clf.predict( x_val )\n",
        "print( accuracy_score(y_val , y_pred) )"
      ],
      "metadata": {
        "colab": {
          "base_uri": "https://localhost:8080/"
        },
        "id": "WsKnB5OGo6kd",
        "outputId": "431173f0-26de-4e9a-958a-395c5fb8c864"
      },
      "execution_count": null,
      "outputs": [
        {
          "output_type": "stream",
          "name": "stdout",
          "text": [
            "1.0\n"
          ]
        }
      ]
    },
    {
      "cell_type": "code",
      "source": [
        "clf = Perceptron( learning_rate=0.5 , n_iter = 10000)\n",
        "clf.fit( x_train , y_train )\n",
        "y_pred = clf.predict( x_train )\n",
        "print( accuracy_score(y_train , y_pred) )"
      ],
      "metadata": {
        "colab": {
          "base_uri": "https://localhost:8080/"
        },
        "id": "6MWWr0HkqG8V",
        "outputId": "717a345d-4be6-4fe1-e3da-eeb63081a642"
      },
      "execution_count": null,
      "outputs": [
        {
          "output_type": "stream",
          "name": "stdout",
          "text": [
            "1.0\n"
          ]
        }
      ]
    },
    {
      "cell_type": "code",
      "source": [
        "y_pred = clf.predict( x_val )\n",
        "print( accuracy_score(y_val , y_pred) )"
      ],
      "metadata": {
        "colab": {
          "base_uri": "https://localhost:8080/"
        },
        "id": "lU0bNlutqOjG",
        "outputId": "2f118532-8c76-4b0c-e6fb-3577778aa301"
      },
      "execution_count": null,
      "outputs": [
        {
          "output_type": "stream",
          "name": "stdout",
          "text": [
            "1.0\n"
          ]
        }
      ]
    },
    {
      "cell_type": "code",
      "source": [
        "clf = Perceptron( learning_rate=0.01 , n_iter = 10000)\n",
        "clf.fit( x_train , y_train )\n",
        "y_pred = clf.predict( x_train )\n",
        "print( accuracy_score(y_train , y_pred) )"
      ],
      "metadata": {
        "colab": {
          "base_uri": "https://localhost:8080/"
        },
        "id": "3DxRE_ehqPz7",
        "outputId": "4504d5d2-acd4-4f5d-836c-a22af73bfbaf"
      },
      "execution_count": null,
      "outputs": [
        {
          "output_type": "stream",
          "name": "stdout",
          "text": [
            "1.0\n"
          ]
        }
      ]
    },
    {
      "cell_type": "code",
      "source": [
        "y_pred = clf.predict( x_val )\n",
        "print( accuracy_score(y_val , y_pred) )"
      ],
      "metadata": {
        "colab": {
          "base_uri": "https://localhost:8080/"
        },
        "id": "TmB8tALDqQaC",
        "outputId": "a116effa-5469-4a93-c447-d209bde0fbdf"
      },
      "execution_count": null,
      "outputs": [
        {
          "output_type": "stream",
          "name": "stdout",
          "text": [
            "1.0\n"
          ]
        }
      ]
    },
    {
      "cell_type": "markdown",
      "source": [
        "Use the test set"
      ],
      "metadata": {
        "id": "GCQ0ZHfoqvbr"
      }
    },
    {
      "cell_type": "code",
      "source": [
        "y_pred = clf.predict( x_test ) \n",
        "print( accuracy_score( y_test , y_pred ) )"
      ],
      "metadata": {
        "colab": {
          "base_uri": "https://localhost:8080/"
        },
        "id": "XDbb_TBkqu_n",
        "outputId": "9ccf1fe8-69a2-4eff-dc3c-5e63407f945c"
      },
      "execution_count": null,
      "outputs": [
        {
          "output_type": "stream",
          "name": "stdout",
          "text": [
            "0.9333333333333333\n"
          ]
        }
      ]
    },
    {
      "cell_type": "code",
      "source": [
        "import matplotlib.pyplot as plt\n",
        "fig , ax = plt.subplots()\n",
        "plt.scatter(x_train[:,0], x_train[:,1] , c = y_train)\n",
        "domain = np.linspace(4 , 7 , 30)\n",
        "plt.scatter( domain , -(clf._b + clf._w[0]*domain)/clf._w[1] )\n"
      ],
      "metadata": {
        "colab": {
          "base_uri": "https://localhost:8080/",
          "height": 282
        },
        "id": "2OSQmWNcrQpQ",
        "outputId": "cb7121ba-9515-46bd-b4de-dbe46018dff6"
      },
      "execution_count": null,
      "outputs": [
        {
          "output_type": "execute_result",
          "data": {
            "text/plain": [
              "<matplotlib.collections.PathCollection at 0x7f606a08ce50>"
            ]
          },
          "metadata": {},
          "execution_count": 77
        },
        {
          "output_type": "display_data",
          "data": {
            "text/plain": [
              "<Figure size 432x288 with 1 Axes>"
            ],
            "image/png": "[encoded data removed]"
          },
          "metadata": {
            "needs_background": "light"
          }
        }
      ]
    }
  ]
}