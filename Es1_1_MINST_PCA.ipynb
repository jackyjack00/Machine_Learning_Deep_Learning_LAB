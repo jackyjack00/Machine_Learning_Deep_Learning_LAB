{
  "nbformat": 4,
  "nbformat_minor": 0,
  "metadata": {
    "colab": {
      "provenance": [],
      "authorship_tag": "ABX9TyM51Rf78EzAiPCo2K3mRBhd",
      "include_colab_link": true
    },
    "kernelspec": {
      "name": "python3",
      "display_name": "Python 3"
    },
    "language_info": {
      "name": "python"
    }
  },
  "cells": [
    {
      "cell_type": "markdown",
      "metadata": {
        "id": "view-in-github",
        "colab_type": "text"
      },
      "source": [
        "<a href=\"https://colab.research.google.com/github/jackyjack00/Machine_Learning_Deep_Learning_LAB/blob/main/Es1_1_MINST_PCA.ipynb\" target=\"_parent\"><img src=\"https://colab.research.google.com/assets/colab-badge.svg\" alt=\"Open In Colab\"/></a>"
      ]
    },
    {
      "cell_type": "markdown",
      "source": [
        "GOAL\n",
        "\n",
        "1.   Train a logistic regressor on MNIST dataset\n",
        "2.   Applying PCA than retry logistic regressor\n",
        "\n",
        "\n"
      ],
      "metadata": {
        "id": "86PSUT59Bz9g"
      }
    },
    {
      "cell_type": "markdown",
      "source": [
        "Load digits dataset: 1797 images of handwritten digits. Each image is 8x8 pixels and grayscale coloration"
      ],
      "metadata": {
        "id": "4bVBwDXIBOFI"
      }
    },
    {
      "cell_type": "code",
      "execution_count": null,
      "metadata": {
        "colab": {
          "base_uri": "https://localhost:8080/"
        },
        "id": "1Si7zY6JASh8",
        "outputId": "d8696e3b-4394-4f6a-a13e-72dbba7f322d"
      },
      "outputs": [
        {
          "output_type": "stream",
          "name": "stdout",
          "text": [
            "X : (<class 'numpy.ndarray'>, (1797, 64))\n",
            "y : (<class 'numpy.ndarray'>, (1797,))\n"
          ]
        }
      ],
      "source": [
        "import sklearn\n",
        "from sklearn.datasets import load_digits\n",
        "\n",
        "X , y = load_digits(return_X_y = True)\n",
        "\n",
        "print( f\"X : {type(X) , X.shape}\\ny : {type(y) , y.shape}\")"
      ]
    },
    {
      "cell_type": "code",
      "source": [
        "from sklearn.model_selection import train_test_split\n",
        "from sklearn.preprocessing import StandardScaler\n",
        "\n",
        "X_train, X_test, y_train, y_test = train_test_split(X, y, test_size = .2)\n",
        "X_train_noscale = X_train\n",
        "\n",
        "scaler = StandardScaler()\n",
        "\n",
        "X_train = scaler.fit_transform(X_train)\n",
        "X_test = scaler.fit_transform(X_test)\n"
      ],
      "metadata": {
        "id": "267JVkXiBM7i"
      },
      "execution_count": null,
      "outputs": []
    },
    {
      "cell_type": "markdown",
      "source": [
        "Train a LogisticRegressor than use it to predict and evaluate the prediction"
      ],
      "metadata": {
        "id": "RPE51deEEcl5"
      }
    },
    {
      "cell_type": "code",
      "source": [
        "from sklearn.linear_model import LogisticRegression\n",
        "from sklearn.metrics import accuracy_score\n",
        "\n",
        "regressor = LogisticRegression(solver = \"lbfgs\")\n",
        "regressor.fit(X_train, y_train)\n",
        "\n",
        "y_pred = regressor.predict(X_test)\n",
        "\n",
        "acc = accuracy_score(y_test , y_pred)\n",
        "\n",
        "print( f\"The accuracy score is {acc}\")"
      ],
      "metadata": {
        "colab": {
          "base_uri": "https://localhost:8080/"
        },
        "id": "Whmgoqt4D0xE",
        "outputId": "ad05dee2-4dc4-4800-857b-d9b360104471"
      },
      "execution_count": null,
      "outputs": [
        {
          "output_type": "stream",
          "name": "stdout",
          "text": [
            "The accuracy score is 0.9694444444444444\n"
          ]
        }
      ]
    },
    {
      "cell_type": "markdown",
      "source": [
        "Build the PCA and evaluate the LogisticRegressor with the PCA applyed.\n",
        "Note that before the PCA the data has already been standardized"
      ],
      "metadata": {
        "id": "AxC_02qxFJ_A"
      }
    },
    {
      "cell_type": "code",
      "source": [
        "from sklearn.decomposition import PCA\n",
        "\n",
        "pca = PCA(.95)\n",
        "X_train_pca = pca.fit_transform(X_train)\n",
        "X_test_pca = pca.transform(X_test)\n",
        "\n",
        "regressor = regressor = LogisticRegression(solver = \"lbfgs\" , max_iter = 200)\n",
        "regressor.fit(X_train_pca , y_train)\n",
        "y_pred_pca = regressor.predict(X_test_pca)\n",
        "\n",
        "acc_pca = accuracy_score ( y_test , y_pred_pca)\n",
        "\n",
        "print( f\"The accuracy score with PCA is {acc_pca}\")"
      ],
      "metadata": {
        "colab": {
          "base_uri": "https://localhost:8080/"
        },
        "id": "XoO8vojfFJz8",
        "outputId": "62344fcc-72f2-46c0-c9db-296021c110f5"
      },
      "execution_count": null,
      "outputs": [
        {
          "output_type": "stream",
          "name": "stdout",
          "text": [
            "The accuracy score with PCA is 0.9583333333333334\n"
          ]
        }
      ]
    },
    {
      "cell_type": "markdown",
      "source": [
        "Analyze the PCA effects on data"
      ],
      "metadata": {
        "id": "j--LgEKVHCjz"
      }
    },
    {
      "cell_type": "code",
      "source": [
        "print(f\"Original X_train image pixels: {X_train_noscale.shape[1]}\")\n",
        "print(f\"After PCA image pixels kept: {X_train_pca.shape[1]}\")\n",
        "\n",
        "print( f\"\\nTotal PCA components : {pca.n_components_}\\nExplained varaince ratio :\\n{pca.explained_variance_ratio_*100}\" )\n",
        "\n"
      ],
      "metadata": {
        "colab": {
          "base_uri": "https://localhost:8080/"
        },
        "id": "XE53f2D4HHGt",
        "outputId": "751dcf48-2d84-426c-d3c9-26757445c071"
      },
      "execution_count": null,
      "outputs": [
        {
          "output_type": "stream",
          "name": "stdout",
          "text": [
            "Original X_train image pixels: 64\n",
            "After PCA image pixels kept: 40\n",
            "\n",
            "Total PCA components : 40\n",
            "Explained varaince ratio :\n",
            "[12.27370938  9.4966085   8.27725132  6.52234983  4.89674732  4.26311591\n",
            "  3.77583264  3.40563874  3.14281682  2.93724647  2.79617308  2.66739263\n",
            "  2.30843908  2.23369764  2.18944883  1.97342968  1.82853978  1.66465949\n",
            "  1.60891668  1.47729899  1.33440792  1.31104911  1.13123583  1.08791729\n",
            "  0.98809977  0.94413816  0.88086516  0.82847338  0.79195928  0.73873499\n",
            "  0.71148949  0.66534663  0.63505678  0.59499061  0.5582621   0.52193634\n",
            "  0.4898068   0.44591013  0.41571192  0.40046908]\n"
          ]
        }
      ]
    }
  ]
}